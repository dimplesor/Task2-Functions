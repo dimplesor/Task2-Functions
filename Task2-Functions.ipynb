{
 "cells": [
  {
   "cell_type": "markdown",
   "id": "b4454769-133a-4f0f-978e-60c42965fdbe",
   "metadata": {},
   "source": [
    "# create a function to accept 3 paramter and join them return ouput should be a dictinory "
   ]
  },
  {
   "cell_type": "code",
   "execution_count": 3,
   "id": "e43baede-eb46-41a7-b6d0-cb670ccbaca2",
   "metadata": {},
   "outputs": [
    {
     "name": "stdout",
     "output_type": "stream",
     "text": [
      "{'name1': 's1', 'name2': 's2', 'name3': 's3'}\n"
     ]
    }
   ],
   "source": [
    "def my_function(f1,f2,f3):\n",
    "    joint_name = (f'{f1},{f2},{f3}')\n",
    "    result = {'name1':f1,'name2':f2,'name3':f3}\n",
    "    return result\n",
    "\n",
    "f1 = \"s1\"\n",
    "f2 = \"s2\"\n",
    "f3 = \"s3\"\n",
    "output = my_function(f1,f2,f3)\n",
    "\n",
    "print(output)"
   ]
  },
  {
   "cell_type": "code",
   "execution_count": null,
   "id": "0b7bcf6d-3af0-464d-b918-6260442d6ffa",
   "metadata": {},
   "outputs": [],
   "source": []
  }
 ],
 "metadata": {
  "kernelspec": {
   "display_name": "Python 3 (ipykernel)",
   "language": "python",
   "name": "python3"
  },
  "language_info": {
   "codemirror_mode": {
    "name": "ipython",
    "version": 3
   },
   "file_extension": ".py",
   "mimetype": "text/x-python",
   "name": "python",
   "nbconvert_exporter": "python",
   "pygments_lexer": "ipython3",
   "version": "3.11.7"
  }
 },
 "nbformat": 4,
 "nbformat_minor": 5
}
